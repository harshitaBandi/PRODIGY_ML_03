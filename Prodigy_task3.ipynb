{
  "nbformat": 4,
  "nbformat_minor": 0,
  "metadata": {
    "colab": {
      "provenance": []
    },
    "kernelspec": {
      "name": "python3",
      "display_name": "Python 3"
    },
    "language_info": {
      "name": "python"
    }
  },
  "cells": [
    {
      "cell_type": "code",
      "source": [
        "import os\n",
        "import numpy as np\n",
        "from sklearn.svm import SVC\n",
        "from sklearn.metrics import accuracy_score, classification_report\n",
        "from sklearn.model_selection import train_test_split\n",
        "from keras.applications.vgg16 import VGG16, preprocess_input\n",
        "from keras.preprocessing import image\n",
        "\n",
        "# Step 1: Download and Prepare the Dataset\n",
        "# Organize the dataset into 'cats' and 'dogs' folders.\n",
        "\n",
        "# Step 2: Data Preprocessing\n",
        "# Load and preprocess images\n",
        "\n",
        "def preprocess_image(img_path):\n",
        "    img = image.load_img(img_path, target_size=(224, 224))\n",
        "    x = image.img_to_array(img)\n",
        "    x = np.expand_dims(x, axis=0)\n",
        "    x = preprocess_input(x)\n",
        "    return x\n",
        "\n",
        "def load_images_from_folder(folder):\n",
        "    images = []\n",
        "    for filename in os.listdir(folder):\n",
        "        img_path = os.path.join(folder, filename)\n",
        "        if img_path.endswith(\".jpg\"):\n",
        "            img = preprocess_image(img_path)\n",
        "            images.append(img)\n",
        "    return np.vstack(images)\n",
        "\n",
        "cats_features = load_images_from_folder('cats')\n",
        "dogs_features = load_images_from_folder('dogs')\n",
        "labels = np.concatenate((np.zeros(len(cats_features)), np.ones(len(dogs_features))))\n",
        "\n",
        "# Step 3: Feature Extraction (using VGG16)\n",
        "base_model = VGG16(weights='imagenet', include_top=False)\n",
        "cats_features = base_model.predict(cats_features)\n",
        "dogs_features = base_model.predict(dogs_features)\n",
        "\n",
        "# Step 4: Train the SVM\n",
        "X = np.vstack((cats_features, dogs_features))\n",
        "X = X.reshape(X.shape[0], -1)\n",
        "X_train, X_val, y_train, y_val = train_test_split(X, labels, test_size=0.2, random_state=42)\n",
        "\n",
        "svm_classifier = SVC(C=1.0, kernel='linear')\n",
        "svm_classifier.fit(X_train, y_train)\n",
        "\n",
        "# Step 6: Evaluate the Model\n",
        "y_pred = svm_classifier.predict(X_val)\n",
        "accuracy = accuracy_score(y_val, y_pred)\n",
        "print(f\"Accuracy: {accuracy}\")\n",
        "\n",
        "# Additional evaluation metrics (precision, recall, F1-score)\n",
        "print(classification_report(y_val, y_pred))\n",
        "\n",
        "# Step 7: Testing\n",
        "# Load and preprocess the test dataset and use svm_classifier.predict() to make predictions."
      ],
      "metadata": {
        "id": "bDV4VJCFfyWM"
      },
      "execution_count": null,
      "outputs": []
    }
  ]
}